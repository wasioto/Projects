{
  "nbformat": 4,
  "nbformat_minor": 0,
  "metadata": {
    "colab": {
      "provenance": [],
      "include_colab_link": true
    },
    "kernelspec": {
      "name": "python3",
      "display_name": "Python 3"
    },
    "language_info": {
      "name": "python"
    }
  },
  "cells": [
    {
      "cell_type": "markdown",
      "metadata": {
        "id": "view-in-github",
        "colab_type": "text"
      },
      "source": [
        "<a href=\"https://colab.research.google.com/github/wasioto/Projects/blob/main/Elizabeth_Lovett_Week_1_Exercise.ipynb\" target=\"_parent\"><img src=\"https://colab.research.google.com/assets/colab-badge.svg\" alt=\"Open In Colab\"/></a>"
      ]
    },
    {
      "cell_type": "markdown",
      "source": [
        "# Week 1 Exercise\n",
        "\n",
        "Triangles can be classified based on their angles.\n",
        "\n",
        "* A right triangle has one angle of 90 degrees\n",
        "* A obtuse triangle has one angle of more than 90 degrees\n",
        "* A triangle is acute if all three angles are less than 90 degrees:> [!WARNING]\n",
        "\n",
        "Write a program that asks the user for the values of three angles in degrees. First check if the entered values are valid. The values are only valid if they are >0 and if their sum is 180 degrees. If the entered values are valid, classify the triangle as right, acute or obtuse.\n",
        "\n",
        "Below are two example executions of the program with invalid values:\n",
        "\n",
        "\n",
        "\n",
        "```\n",
        "Please enter the first angle: 60\n",
        "Please enter the second angle: 60\n",
        "Please enter the third angle: 100\n",
        "The entered values are not valid.\n",
        "\n",
        "Please enter the first angle: 200\n",
        "Please enter the second angle: -10\n",
        "Please enter the third angle: -10\n",
        "Angles smaller than 0 are not valid.\n",
        "```\n",
        "\n",
        "Here is another example execution of the program:\n",
        "\n",
        "```\n",
        "Please enter the first angle: 60\n",
        "Please enter the second angle: 30\n",
        "Please enter the third angle: 90\n",
        "The triangle is a right triangle.\n",
        "```\n",
        "\n"
      ],
      "metadata": {
        "id": "qRWDWXErsVY5"
      }
    },
    {
      "cell_type": "code",
      "execution_count": 15,
      "metadata": {
        "id": "HeyZxT1ksTMA",
        "colab": {
          "base_uri": "https://localhost:8080/"
        },
        "outputId": "3921e9e9-1733-4d3d-e28a-9310e9374cfc"
      },
      "outputs": [
        {
          "output_type": "stream",
          "name": "stdout",
          "text": [
            "Please enter the first angle: 110\n",
            "Please enter the second angle: 78\n",
            "Please enter the third angle: 105\n",
            "The entered values are not valid.\n",
            "The triangle is an obtuse triangle.\n"
          ]
        }
      ],
      "source": [
        "def classify(first : int, second : int, third : int) -> int:\n",
        "  classification = \"unknown\"\n",
        "\n",
        "a = int(input(\"Please enter the first angle: \"))\n",
        "b = int(input(\"Please enter the second angle: \"))\n",
        "c = int(input(\"Please enter the third angle: \"))\n",
        "\n",
        "if a <= 0 or b <= 0 or c <= 0:\n",
        "    print(\"Angles smaller than or equal to 0 are not valid.\")\n",
        "elif a + b + c != 180:\n",
        "    print(\"The entered values are not valid.\")\n",
        "    if a == 90 or b == 90 or c == 90:\n",
        "      print(\"The triangle is a right triangle.\")\n",
        "    elif a > 90 or b > 90 or c > 90:\n",
        "      print(\"The triangle is an obtuse triangle.\")\n",
        "    else:\n",
        "      print(\"The triangle is an acute triangle.\")\n",
        "\n",
        "\n",
        "\n",
        "\n",
        "\n",
        "\n",
        "\n",
        "\n",
        "\n",
        "\n"
      ]
    },
    {
      "cell_type": "markdown",
      "source": [
        "The following code block can be used to test your code."
      ],
      "metadata": {
        "id": "OkWJOBNftSmC"
      }
    },
    {
      "cell_type": "code",
      "source": [
        "import unittest\n",
        "\n",
        "class TestExercise(unittest.TestCase):\n",
        "\n",
        "  def test_invalid_values(self):\n",
        "    assert classify(60,60,90) == \"The entered values are not valid.\"\n",
        "\n",
        "  def test_less_than_zero(self):\n",
        "    assert classify(200,-10,-10) == \"Angles smaller than 0 are not valid.\"\n",
        "\n",
        "  def test_right_triangle(self):\n",
        "    assert classify(60,30,90) == \"The triangle is a right triangle.\"\n",
        "\n",
        "if __name__ == '__main__':\n",
        "    unittest.main(argv=['first-arg-is-ignored'], exit=False)\n"
      ],
      "metadata": {
        "colab": {
          "base_uri": "https://localhost:8080/"
        },
        "id": "D_AVG0fDtWS5",
        "outputId": "b4c6a687-034e-4490-f746-5bfc8c418b67"
      },
      "execution_count": 10,
      "outputs": [
        {
          "output_type": "stream",
          "name": "stderr",
          "text": [
            "FFF\n",
            "======================================================================\n",
            "FAIL: test_invalid_values (__main__.TestExercise)\n",
            "----------------------------------------------------------------------\n",
            "Traceback (most recent call last):\n",
            "  File \"<ipython-input-10-3f6d061aaefd>\", line 6, in test_invalid_values\n",
            "    assert classify(60,60,90) == \"The entered values are not valid.\"\n",
            "AssertionError\n",
            "\n",
            "======================================================================\n",
            "FAIL: test_less_than_zero (__main__.TestExercise)\n",
            "----------------------------------------------------------------------\n",
            "Traceback (most recent call last):\n",
            "  File \"<ipython-input-10-3f6d061aaefd>\", line 9, in test_less_than_zero\n",
            "    assert classify(200,-10,-10) == \"Angles smaller than 0 are not valid.\"\n",
            "AssertionError\n",
            "\n",
            "======================================================================\n",
            "FAIL: test_right_triangle (__main__.TestExercise)\n",
            "----------------------------------------------------------------------\n",
            "Traceback (most recent call last):\n",
            "  File \"<ipython-input-10-3f6d061aaefd>\", line 12, in test_right_triangle\n",
            "    assert classify(60,30,90) == \"The triangle is a right triangle.\"\n",
            "AssertionError\n",
            "\n",
            "----------------------------------------------------------------------\n",
            "Ran 3 tests in 0.007s\n",
            "\n",
            "FAILED (failures=3)\n"
          ]
        }
      ]
    }
  ]
}