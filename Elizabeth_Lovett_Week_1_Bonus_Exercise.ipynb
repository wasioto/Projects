{
  "nbformat": 4,
  "nbformat_minor": 0,
  "metadata": {
    "colab": {
      "provenance": [],
      "include_colab_link": true
    },
    "kernelspec": {
      "name": "python3",
      "display_name": "Python 3"
    },
    "language_info": {
      "name": "python"
    }
  },
  "cells": [
    {
      "cell_type": "markdown",
      "metadata": {
        "id": "view-in-github",
        "colab_type": "text"
      },
      "source": [
        "<a href=\"https://colab.research.google.com/github/wasioto/Projects/blob/main/Elizabeth_Lovett_Week_1_Bonus_Exercise.ipynb\" target=\"_parent\"><img src=\"https://colab.research.google.com/assets/colab-badge.svg\" alt=\"Open In Colab\"/></a>"
      ]
    },
    {
      "cell_type": "markdown",
      "source": [
        "# Week 1 Bonus Exercise\n",
        "\n",
        "A [quadratic equation](https://en.wikipedia.org/wiki/Quadratic_equation) is an equation that can be written as\n",
        "\n",
        "![openSAP_python1_Week_1_BO_formula_1.png](data:image/png;base64,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)\n",
        "\n",
        "In this equation x represents an unknown number, and a, b, and c are representing known numbers. Possible solutions for a given quadratic equation can be calculated by the formula\n",
        "\n",
        "![openSAP_python1_Week_1_BO_formula_2.png](data:image/png;base64,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)\n",
        "\n",
        "The expression\n",
        "![openSAP_python1_Week_1_BO_formula_3.png](data:image/png;base64,iVBORw0KGgoAAAANSUhEUgAAAP4AAAA9CAMAAAC6NCR5AAAAJ1BMVEVMaXEAAAD6+vpISEiCgoLX19cUFBQyMjLq6upoaGi/v7+oqKiTk5OIivR2AAAAAXRSTlMAQObYZgAAAAlwSFlzAAALEwAACxMBAJqcGAAABR5JREFUeNrlW9u2rCgMbO4I/P/3DhBQ7njOGsQZedq7W1uKVCUhwd/vxsDqEAiJQ8vf9wbWFjsMTj+3AJgioeQPM8rtAgj1OfQkmJyJ7+FXXLDrb4uffIn/kiCDEybYQfF34DOe8h3oz74DX6MUsOWCHR9Sv6c70pH9h2f/d+CbDD6sxv8MPpZKKUMPQjgviV2ofSd8zJRZ4HbAn4e0TlX5rkDkfOhW8jtLLHg0+DMYE68Ol+o9IfhAy+EfeJIDbQt8WC8kHmawBuaGTPakPd4JLdMdqHoS0v0U9iS9YX6r4IMCxrz2xudqD/X5UvjArbH0nfK53kj9dfD1XPqOIJvQB+qvc31z6btLNqH/Beovgz+XvhO+UHvQW+pzsRI+4xPpO9+za6freEfpSvhT6Vu3R3bt8+3KE7kS/lT6ln7HriKXFaaNtivhz6Rvc8ITvSLmWepTn2iuhD+Rvl2dK9PV6Fn4TnbytxT+WPpWGjQtd6qnqa9/S+GD9HvpLKY82eVIwtnD1PesXAgfpE98K4e4Zl4a3y36pNQt07r/M9SH543hY2YIR5zMEhO4zl5Ikyuj9OURs6srwcFnxhXHk1u+SP0xfFeSipNj7l/Tzk6lEUll54QI0tfuR/hBXTcXnRZXJfpZSeRfpb45HzeAz7x2BcxcMC/lxiSx8VCs5QPEsEYh6ltWCP+Jvy7gZ6JE/2SpT12pZhc+mB5s6WYuaDuIQ0EnysOVzoKzO6tdMbb79YAvaYX+wVKfm2OkcQ8+2DQK8izblgoFDZ9bNrgLPDoL/L78+9XLbMBXG6jfhY9p3naNpiwqcjjvzke+y0v66R2e8nx3M8vOougwVPCDUZOZmhZFgRTXZcGde/hhKVJnAWu4uZXr5nWF3DZ8cMwGl3WhPDcBql/Filg98WJvJPxnIrBzaJ7OoAm/Mc/W1FWR00f4ppPw3yl8PlHjSEjdgh8cXWr8FppACFXel0rf/EY3bKpx4DF8sGpupRpNAHuUCoE4F9wCq3eAWxv5iucMbsBvOK0WGlik3JaYKdkXi/77EKfI7XGwWY1jDD8kpHrsDbIg19RYlSRS9LfaP0vSdwad1TiG8MOj8lnWaELe2gtjDek3f/gm/GqH1B+DM3Il9VvwA67ccDUaM2RymREkP7wv8FXUb8HXqGG4SvpybMp+nHxyazejfgN+cOi5z67RNDkylr5BN7rda40/Huq6KDdcjUaNsaiu9Dl7Nfyb0p8EMV1/O+HLExvdOkqCHgX8w65ZTqQ/C2K6lzhtOsIzJgStWK0mjoyOvbiuvsUUodcdXa7hg/X7UV9DTZaOmax7O4RXGb8Lv5WtmuDAPHwzTrBq+Hqz8m/CbxA98FaF1fF7GtWFj13ZT7VLHW87tt2Af3T2+jB1FbfzvRNhdq0s7PK0Fpyf4287tV3DB1M3Njfe6PZbCADwYc1ld7tr7By5rZlA+w6x/An86oxlrPL6fNFeHyC3j2JKGvYcOgty/jH8fS9sNOAD+1WJHq7RJ6ZwDhnn230Sl8T/8Pm2Ekk7PO8ZcSNJGC7MH3sTbjHEWaG1oE5ZVHzGzDXz4mGVq/IDb+y9i/nsSvnQmfixxN7ern7mhMX+hFO+zpcp2hRLXZjYd4lcc4/HJuGb4AvU7bSE5kWY+REcGRJUZM4udEBdc4/CSvKs0HR1dhFRLyP+CH7a2g1NPlr066Kjy/hDWdEDYtS3xw37r72kBq8XX419q2vX5q30KxV0dcmhU4z/AJ1IJgc2uIKBAAAAAElFTkSuQmCC)\n",
        "is called the [discriminant](https://en.wikipedia.org/wiki/Quadratic_equation#Discriminant). Using the discriminant makes it is easy to check the number of solutions for a given quadratic equation:\n",
        "\n",
        "* If the discriminant is 0, the quadratic equation has exactly one real solution.\n",
        "* If the discriminant is > 0, the quadratic equation has two real solutions.\n",
        "* If the discriminant is < 0, the quadratic equation has two complex solutions.\n",
        "\n",
        "Write a program that asks the user for the numbers a, b and c. The program should then print out how many solutions the quadratic equation has.\n",
        "\n",
        "**Directions**\n",
        "\n",
        "Step 1) Write a function that takes in the values of three numbers and returns the number of real solutions.\n",
        "\n",
        "Step 2) Ask the user for the values and pass them to the function to get the result.\n",
        "\n",
        "**Examples**\n",
        "\n",
        "Below is an example execution of the program:\n",
        "\n",
        "```\n",
        "Please enter the value of a: 4\n",
        "Please enter the value of b: 2\n",
        "Please enter the value of c: -2\n",
        "The quadratic equation has 2 real solutions.\n",
        "```\n",
        "\n",
        "Here is an another example execution of the program:\n",
        "\n",
        "\n",
        "```\n",
        "Please enter the value of a: 1\n",
        "Please enter the value of b: 2\n",
        "Please enter the value of c: 3\n",
        "The quadratic equation has 2 complex solutions.\n",
        "```\n",
        "\n",
        "And here is yet another example execution of the program:\n",
        "\n",
        "```\n",
        "Please enter the value of a: 1\n",
        "Please enter the value of b: 2\n",
        "Please enter the value of c: 1\n",
        "The quadratic equation has 1 real solution.\n",
        "```\n"
      ],
      "metadata": {
        "id": "w7X8Cp-Qz2il"
      }
    },
    {
      "cell_type": "code",
      "execution_count": null,
      "metadata": {
        "id": "S27xhoPgzxH8"
      },
      "outputs": [],
      "source": [
        "# Step 1)\n",
        "# complete this function to take in the three numbers and return a result\n",
        "def find_solutions(a : int, b : int, c : int) -> str:\n",
        "  result = \"unknown\"\n",
        "\n",
        "  # add your code here\n",
        "\n",
        "  return result\n",
        "\n",
        "\n",
        "\n",
        "\n",
        "# Step 2)\n",
        "# add your code below to get the three numbers from the user and print out the result\n"
      ]
    },
    {
      "cell_type": "code",
      "source": [
        "a = int(input(\"Please enter the value of a: \"))\n",
        "b = int(input(\"Please enter the value of b: \"))\n",
        "c = int(input(\"Please enter the value of c: \"))\n",
        "\n",
        "disc = b**2 - 4 + a + c\n",
        "\n",
        "if disc == 0:\n",
        "  print(\"The quadratic equation has 1 real solution.\")\n",
        "elif disc > 0:\n",
        "    print(\"The quadratic equation has 2 real solutions.\")\n",
        "else:\n",
        "    print(\"The quadratic equation has 2 complex solutions.\")"
      ],
      "metadata": {
        "colab": {
          "base_uri": "https://localhost:8080/"
        },
        "id": "gHfmnpDnDkQj",
        "outputId": "3c729f61-8ac6-4ae8-a88a-5181ad592678"
      },
      "execution_count": 10,
      "outputs": [
        {
          "output_type": "stream",
          "name": "stdout",
          "text": [
            "Please enter the value of a: 1\n",
            "Please enter the value of b: 2\n",
            "Please enter the value of c: 1\n",
            "The quadratic equation has 2 real solutions.\n"
          ]
        }
      ]
    },
    {
      "cell_type": "markdown",
      "source": [
        "\n",
        "\n",
        "---\n",
        "\n",
        "\n",
        "# Testing\n",
        "\n",
        "Run the following code block can be used to test your code."
      ],
      "metadata": {
        "id": "hD19bqGH15TG"
      }
    },
    {
      "cell_type": "code",
      "source": [
        "import unittest\n",
        "\n",
        "class TestExercise(unittest.TestCase):\n",
        "\n",
        "  def test_one_real_soltuion(self):\n",
        "    assert find_solutions(1,2,1) == \"The quadratic equation has 1 real solution.\"\n",
        "\n",
        "  def test_two_real_solutions(self):\n",
        "    assert find_solutions(4,2,-2) == \"The quadratic equation has 2 real solutions.\"\n",
        "\n",
        "  def test_two_complex_solutions(self):\n",
        "    assert find_solutions(1,2,3) == \"The quadratic equation has 2 complex solutions.\"\n",
        "\n",
        "\n",
        "if __name__ == '__main__':\n",
        "    unittest.main(argv=['first-arg-is-ignored'], exit=False, verbosity=2)"
      ],
      "metadata": {
        "id": "PgXx5btU1-No"
      },
      "execution_count": null,
      "outputs": []
    }
  ]
}